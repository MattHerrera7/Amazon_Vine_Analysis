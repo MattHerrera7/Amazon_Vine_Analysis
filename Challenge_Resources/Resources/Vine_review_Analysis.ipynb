{
 "cells": [
  {
   "cell_type": "code",
   "execution_count": 1,
   "id": "ab37f158-9dc2-490c-9ac7-abc4d96da142",
   "metadata": {},
   "outputs": [],
   "source": [
    "### Deliverable 2: Determine Bias of Vine Reviews (40 points)\n",
    "#Deliverable 2 Instructions\n",
    "#Using your knowledge of PySpark, Pandas, or SQL, you’ll determine if there is any bias towards reviews that were written as part of the Vine program. For this analysis, you'll determine if having a paid Vine review makes a difference in the percentage of 5-star reviews."
   ]
  },
  {
   "cell_type": "code",
   "execution_count": 2,
   "id": "cc996553-f8b7-4c99-91c9-6393ec402b16",
   "metadata": {},
   "outputs": [],
   "source": [
    "#Import Dependencies\n",
    "import pandas as pd"
   ]
  },
  {
   "cell_type": "code",
   "execution_count": 3,
   "id": "13c1a39e-6891-4e71-81e5-d70694aab1c0",
   "metadata": {},
   "outputs": [
    {
     "data": {
      "text/html": [
       "<div>\n",
       "<style scoped>\n",
       "    .dataframe tbody tr th:only-of-type {\n",
       "        vertical-align: middle;\n",
       "    }\n",
       "\n",
       "    .dataframe tbody tr th {\n",
       "        vertical-align: top;\n",
       "    }\n",
       "\n",
       "    .dataframe thead th {\n",
       "        text-align: right;\n",
       "    }\n",
       "</style>\n",
       "<table border=\"1\" class=\"dataframe\">\n",
       "  <thead>\n",
       "    <tr style=\"text-align: right;\">\n",
       "      <th></th>\n",
       "      <th>REAKC26P07MDN</th>\n",
       "      <th>5</th>\n",
       "      <th>0</th>\n",
       "      <th>0.1</th>\n",
       "      <th>N</th>\n",
       "      <th>Y</th>\n",
       "    </tr>\n",
       "  </thead>\n",
       "  <tbody>\n",
       "    <tr>\n",
       "      <th>0</th>\n",
       "      <td>R3NU7OMZ4HQIEG</td>\n",
       "      <td>2.0</td>\n",
       "      <td>0.0</td>\n",
       "      <td>1.0</td>\n",
       "      <td>N</td>\n",
       "      <td>Y</td>\n",
       "    </tr>\n",
       "    <tr>\n",
       "      <th>1</th>\n",
       "      <td>R14QJW3XF8QO1P</td>\n",
       "      <td>5.0</td>\n",
       "      <td>0.0</td>\n",
       "      <td>0.0</td>\n",
       "      <td>N</td>\n",
       "      <td>Y</td>\n",
       "    </tr>\n",
       "    <tr>\n",
       "      <th>2</th>\n",
       "      <td>R2HB7AX0394ZGY</td>\n",
       "      <td>5.0</td>\n",
       "      <td>0.0</td>\n",
       "      <td>0.0</td>\n",
       "      <td>N</td>\n",
       "      <td>Y</td>\n",
       "    </tr>\n",
       "    <tr>\n",
       "      <th>3</th>\n",
       "      <td>RGKMPDQGSAHR3</td>\n",
       "      <td>5.0</td>\n",
       "      <td>0.0</td>\n",
       "      <td>0.0</td>\n",
       "      <td>N</td>\n",
       "      <td>Y</td>\n",
       "    </tr>\n",
       "    <tr>\n",
       "      <th>4</th>\n",
       "      <td>R1DJCVPQGCV66E</td>\n",
       "      <td>5.0</td>\n",
       "      <td>0.0</td>\n",
       "      <td>0.0</td>\n",
       "      <td>N</td>\n",
       "      <td>Y</td>\n",
       "    </tr>\n",
       "    <tr>\n",
       "      <th>...</th>\n",
       "      <td>...</td>\n",
       "      <td>...</td>\n",
       "      <td>...</td>\n",
       "      <td>...</td>\n",
       "      <td>...</td>\n",
       "      <td>...</td>\n",
       "    </tr>\n",
       "    <tr>\n",
       "      <th>2643613</th>\n",
       "      <td>R40AVFLMGSX5Q</td>\n",
       "      <td>1.0</td>\n",
       "      <td>32.0</td>\n",
       "      <td>34.0</td>\n",
       "      <td>N</td>\n",
       "      <td>N</td>\n",
       "    </tr>\n",
       "    <tr>\n",
       "      <th>2643614</th>\n",
       "      <td>R13RP6H1OP0BFS</td>\n",
       "      <td>5.0</td>\n",
       "      <td>3.0</td>\n",
       "      <td>3.0</td>\n",
       "      <td>N</td>\n",
       "      <td>N</td>\n",
       "    </tr>\n",
       "    <tr>\n",
       "      <th>2643615</th>\n",
       "      <td>R34ITLN8LBTFZN</td>\n",
       "      <td>3.0</td>\n",
       "      <td>48.0</td>\n",
       "      <td>56.0</td>\n",
       "      <td>N</td>\n",
       "      <td>N</td>\n",
       "    </tr>\n",
       "    <tr>\n",
       "      <th>2643616</th>\n",
       "      <td>R30D2N6TX0OFS</td>\n",
       "      <td>3.0</td>\n",
       "      <td>7.0</td>\n",
       "      <td>7.0</td>\n",
       "      <td>N</td>\n",
       "      <td>Y</td>\n",
       "    </tr>\n",
       "    <tr>\n",
       "      <th>2643617</th>\n",
       "      <td>R2MAGOAOXPFMF1</td>\n",
       "      <td>2.0</td>\n",
       "      <td>17.0</td>\n",
       "      <td>20.0</td>\n",
       "      <td>N</td>\n",
       "      <td>Y</td>\n",
       "    </tr>\n",
       "  </tbody>\n",
       "</table>\n",
       "<p>2643618 rows × 6 columns</p>\n",
       "</div>"
      ],
      "text/plain": [
       "          REAKC26P07MDN    5     0   0.1  N  Y\n",
       "0        R3NU7OMZ4HQIEG  2.0   0.0   1.0  N  Y\n",
       "1        R14QJW3XF8QO1P  5.0   0.0   0.0  N  Y\n",
       "2        R2HB7AX0394ZGY  5.0   0.0   0.0  N  Y\n",
       "3         RGKMPDQGSAHR3  5.0   0.0   0.0  N  Y\n",
       "4        R1DJCVPQGCV66E  5.0   0.0   0.0  N  Y\n",
       "...                 ...  ...   ...   ... .. ..\n",
       "2643613   R40AVFLMGSX5Q  1.0  32.0  34.0  N  N\n",
       "2643614  R13RP6H1OP0BFS  5.0   3.0   3.0  N  N\n",
       "2643615  R34ITLN8LBTFZN  3.0  48.0  56.0  N  N\n",
       "2643616   R30D2N6TX0OFS  3.0   7.0   7.0  N  Y\n",
       "2643617  R2MAGOAOXPFMF1  2.0  17.0  20.0  N  Y\n",
       "\n",
       "[2643618 rows x 6 columns]"
      ]
     },
     "execution_count": 3,
     "metadata": {},
     "output_type": "execute_result"
    }
   ],
   "source": [
    "#use pgAdmin to export the vine_table as a csv file\n",
    "#this file has been saved as vine_Table.csb in this repository\n",
    "\n",
    "# Read in the vine_table.csv file\n",
    "vine_df = pd.read_csv(\"./Data/vine_table.csv\")\n",
    "vine_df"
   ]
  },
  {
   "cell_type": "code",
   "execution_count": 4,
   "id": "f3593159-16f8-4baf-9266-1bb58bdfea09",
   "metadata": {},
   "outputs": [
    {
     "name": "stdout",
     "output_type": "stream",
     "text": [
      "<class 'pandas.core.frame.DataFrame'>\n",
      "RangeIndex: 2643618 entries, 0 to 2643617\n",
      "Data columns (total 6 columns):\n",
      " #   Column         Dtype  \n",
      "---  ------         -----  \n",
      " 0   REAKC26P07MDN  object \n",
      " 1   5              float64\n",
      " 2   0              float64\n",
      " 3   0.1            float64\n",
      " 4   N              object \n",
      " 5   Y              object \n",
      "dtypes: float64(3), object(3)\n",
      "memory usage: 121.0+ MB\n"
     ]
    }
   ],
   "source": [
    "# explore the dataframe using the info method\n",
    "vine_df.info()"
   ]
  },
  {
   "cell_type": "code",
   "execution_count": 5,
   "id": "27958046-7682-4d0e-bf71-5bb44dbc6c7d",
   "metadata": {},
   "outputs": [
    {
     "ename": "KeyError",
     "evalue": "'total_votes'",
     "output_type": "error",
     "traceback": [
      "\u001b[1;31m---------------------------------------------------------------------------\u001b[0m",
      "\u001b[1;31mKeyError\u001b[0m                                  Traceback (most recent call last)",
      "File \u001b[1;32m~\\anaconda3\\envs\\PythonData\\lib\\site-packages\\pandas\\core\\indexes\\base.py:3621\u001b[0m, in \u001b[0;36mIndex.get_loc\u001b[1;34m(self, key, method, tolerance)\u001b[0m\n\u001b[0;32m   3620\u001b[0m \u001b[38;5;28;01mtry\u001b[39;00m:\n\u001b[1;32m-> 3621\u001b[0m     \u001b[38;5;28;01mreturn\u001b[39;00m \u001b[38;5;28;43mself\u001b[39;49m\u001b[38;5;241;43m.\u001b[39;49m\u001b[43m_engine\u001b[49m\u001b[38;5;241;43m.\u001b[39;49m\u001b[43mget_loc\u001b[49m\u001b[43m(\u001b[49m\u001b[43mcasted_key\u001b[49m\u001b[43m)\u001b[49m\n\u001b[0;32m   3622\u001b[0m \u001b[38;5;28;01mexcept\u001b[39;00m \u001b[38;5;167;01mKeyError\u001b[39;00m \u001b[38;5;28;01mas\u001b[39;00m err:\n",
      "File \u001b[1;32m~\\anaconda3\\envs\\PythonData\\lib\\site-packages\\pandas\\_libs\\index.pyx:136\u001b[0m, in \u001b[0;36mpandas._libs.index.IndexEngine.get_loc\u001b[1;34m()\u001b[0m\n",
      "File \u001b[1;32m~\\anaconda3\\envs\\PythonData\\lib\\site-packages\\pandas\\_libs\\index.pyx:163\u001b[0m, in \u001b[0;36mpandas._libs.index.IndexEngine.get_loc\u001b[1;34m()\u001b[0m\n",
      "File \u001b[1;32mpandas\\_libs\\hashtable_class_helper.pxi:5198\u001b[0m, in \u001b[0;36mpandas._libs.hashtable.PyObjectHashTable.get_item\u001b[1;34m()\u001b[0m\n",
      "File \u001b[1;32mpandas\\_libs\\hashtable_class_helper.pxi:5206\u001b[0m, in \u001b[0;36mpandas._libs.hashtable.PyObjectHashTable.get_item\u001b[1;34m()\u001b[0m\n",
      "\u001b[1;31mKeyError\u001b[0m: 'total_votes'",
      "\nThe above exception was the direct cause of the following exception:\n",
      "\u001b[1;31mKeyError\u001b[0m                                  Traceback (most recent call last)",
      "Input \u001b[1;32mIn [5]\u001b[0m, in \u001b[0;36m<cell line: 2>\u001b[1;34m()\u001b[0m\n\u001b[0;32m      1\u001b[0m \u001b[38;5;66;03m# filter vine_df for all rows where total_votes >=20\u001b[39;00m\n\u001b[1;32m----> 2\u001b[0m vine_df_20 \u001b[38;5;241m=\u001b[39m vine_df\u001b[38;5;241m.\u001b[39mloc[\u001b[43mvine_df\u001b[49m\u001b[43m[\u001b[49m\u001b[38;5;124;43m\"\u001b[39;49m\u001b[38;5;124;43mtotal_votes\u001b[39;49m\u001b[38;5;124;43m\"\u001b[39;49m\u001b[43m]\u001b[49m \u001b[38;5;241m>\u001b[39m\u001b[38;5;241m=\u001b[39m \u001b[38;5;241m20\u001b[39m]\n\u001b[0;32m      3\u001b[0m vine_df_20\n",
      "File \u001b[1;32m~\\anaconda3\\envs\\PythonData\\lib\\site-packages\\pandas\\core\\frame.py:3505\u001b[0m, in \u001b[0;36mDataFrame.__getitem__\u001b[1;34m(self, key)\u001b[0m\n\u001b[0;32m   3503\u001b[0m \u001b[38;5;28;01mif\u001b[39;00m \u001b[38;5;28mself\u001b[39m\u001b[38;5;241m.\u001b[39mcolumns\u001b[38;5;241m.\u001b[39mnlevels \u001b[38;5;241m>\u001b[39m \u001b[38;5;241m1\u001b[39m:\n\u001b[0;32m   3504\u001b[0m     \u001b[38;5;28;01mreturn\u001b[39;00m \u001b[38;5;28mself\u001b[39m\u001b[38;5;241m.\u001b[39m_getitem_multilevel(key)\n\u001b[1;32m-> 3505\u001b[0m indexer \u001b[38;5;241m=\u001b[39m \u001b[38;5;28;43mself\u001b[39;49m\u001b[38;5;241;43m.\u001b[39;49m\u001b[43mcolumns\u001b[49m\u001b[38;5;241;43m.\u001b[39;49m\u001b[43mget_loc\u001b[49m\u001b[43m(\u001b[49m\u001b[43mkey\u001b[49m\u001b[43m)\u001b[49m\n\u001b[0;32m   3506\u001b[0m \u001b[38;5;28;01mif\u001b[39;00m is_integer(indexer):\n\u001b[0;32m   3507\u001b[0m     indexer \u001b[38;5;241m=\u001b[39m [indexer]\n",
      "File \u001b[1;32m~\\anaconda3\\envs\\PythonData\\lib\\site-packages\\pandas\\core\\indexes\\base.py:3623\u001b[0m, in \u001b[0;36mIndex.get_loc\u001b[1;34m(self, key, method, tolerance)\u001b[0m\n\u001b[0;32m   3621\u001b[0m     \u001b[38;5;28;01mreturn\u001b[39;00m \u001b[38;5;28mself\u001b[39m\u001b[38;5;241m.\u001b[39m_engine\u001b[38;5;241m.\u001b[39mget_loc(casted_key)\n\u001b[0;32m   3622\u001b[0m \u001b[38;5;28;01mexcept\u001b[39;00m \u001b[38;5;167;01mKeyError\u001b[39;00m \u001b[38;5;28;01mas\u001b[39;00m err:\n\u001b[1;32m-> 3623\u001b[0m     \u001b[38;5;28;01mraise\u001b[39;00m \u001b[38;5;167;01mKeyError\u001b[39;00m(key) \u001b[38;5;28;01mfrom\u001b[39;00m \u001b[38;5;21;01merr\u001b[39;00m\n\u001b[0;32m   3624\u001b[0m \u001b[38;5;28;01mexcept\u001b[39;00m \u001b[38;5;167;01mTypeError\u001b[39;00m:\n\u001b[0;32m   3625\u001b[0m     \u001b[38;5;66;03m# If we have a listlike key, _check_indexing_error will raise\u001b[39;00m\n\u001b[0;32m   3626\u001b[0m     \u001b[38;5;66;03m#  InvalidIndexError. Otherwise we fall through and re-raise\u001b[39;00m\n\u001b[0;32m   3627\u001b[0m     \u001b[38;5;66;03m#  the TypeError.\u001b[39;00m\n\u001b[0;32m   3628\u001b[0m     \u001b[38;5;28mself\u001b[39m\u001b[38;5;241m.\u001b[39m_check_indexing_error(key)\n",
      "\u001b[1;31mKeyError\u001b[0m: 'total_votes'"
     ]
    }
   ],
   "source": [
    "# filter vine_df for all rows where total_votes >=20\n",
    "vine_df_20 = vine_df.loc[vine_df[\"total_votes\"] >= 20]\n",
    "vine_df_20"
   ]
  },
  {
   "cell_type": "code",
   "execution_count": 8,
   "id": "8bdb9a35-dc1c-4a17-9d69-b8e491008a66",
   "metadata": {},
   "outputs": [
    {
     "ename": "NameError",
     "evalue": "name 'vine_df_20' is not defined",
     "output_type": "error",
     "traceback": [
      "\u001b[1;31m---------------------------------------------------------------------------\u001b[0m",
      "\u001b[1;31mNameError\u001b[0m                                 Traceback (most recent call last)",
      "Input \u001b[1;32mIn [8]\u001b[0m, in \u001b[0;36m<cell line: 2>\u001b[1;34m()\u001b[0m\n\u001b[0;32m      1\u001b[0m \u001b[38;5;66;03m# filer vine_df_20 where helpful_votes/total_votes >= .50\u001b[39;00m\n\u001b[1;32m----> 2\u001b[0m vine_df_50 \u001b[38;5;241m=\u001b[39m \u001b[43mvine_df_20\u001b[49m\u001b[38;5;241m.\u001b[39mloc[(vine_df_20[\u001b[38;5;124m\"\u001b[39m\u001b[38;5;124mhelpful_votes\u001b[39m\u001b[38;5;124m\"\u001b[39m] \u001b[38;5;241m/\u001b[39m vine_df_20[\u001b[38;5;124m\"\u001b[39m\u001b[38;5;124mtotal_votes\u001b[39m\u001b[38;5;124m\"\u001b[39m]) \u001b[38;5;241m>\u001b[39m\u001b[38;5;241m=\u001b[39m \u001b[38;5;241m0.50\u001b[39m]\n\u001b[0;32m      3\u001b[0m vine_df_50\n",
      "\u001b[1;31mNameError\u001b[0m: name 'vine_df_20' is not defined"
     ]
    }
   ],
   "source": [
    "# filer vine_df_20 where helpful_votes/total_votes >= .50\n",
    "vine_df_50 = vine_df_20.loc[(vine_df_20[\"helpful_votes\"] / vine_df_20[\"total_votes\"]) >= 0.50]\n",
    "vine_df_50"
   ]
  },
  {
   "cell_type": "code",
   "execution_count": 9,
   "id": "bb034312-4bd9-4f82-9903-2dbcd152fb4e",
   "metadata": {},
   "outputs": [
    {
     "ename": "NameError",
     "evalue": "name 'vine_df_50' is not defined",
     "output_type": "error",
     "traceback": [
      "\u001b[1;31m---------------------------------------------------------------------------\u001b[0m",
      "\u001b[1;31mNameError\u001b[0m                                 Traceback (most recent call last)",
      "Input \u001b[1;32mIn [9]\u001b[0m, in \u001b[0;36m<cell line: 2>\u001b[1;34m()\u001b[0m\n\u001b[0;32m      1\u001b[0m \u001b[38;5;66;03m# filter vine_df_50 here vine = \"Y\"\u001b[39;00m\n\u001b[1;32m----> 2\u001b[0m paid_reviews_df \u001b[38;5;241m=\u001b[39m \u001b[43mvine_df_50\u001b[49m\u001b[38;5;241m.\u001b[39mloc[vine_df_50[\u001b[38;5;124m\"\u001b[39m\u001b[38;5;124mvine\u001b[39m\u001b[38;5;124m\"\u001b[39m] \u001b[38;5;241m==\u001b[39m \u001b[38;5;124m'\u001b[39m\u001b[38;5;124mY\u001b[39m\u001b[38;5;124m'\u001b[39m]\n\u001b[0;32m      3\u001b[0m paid_reviews_df\n",
      "\u001b[1;31mNameError\u001b[0m: name 'vine_df_50' is not defined"
     ]
    }
   ],
   "source": [
    "# filter vine_df_50 here vine = \"Y\"\n",
    "paid_reviews_df = vine_df_50.loc[vine_df_50[\"vine\"] == 'Y']\n",
    "paid_reviews_df"
   ]
  },
  {
   "cell_type": "code",
   "execution_count": 10,
   "id": "19375bbf-289e-4388-8ad9-f3ad55982680",
   "metadata": {},
   "outputs": [
    {
     "ename": "NameError",
     "evalue": "name 'vine_df_50' is not defined",
     "output_type": "error",
     "traceback": [
      "\u001b[1;31m---------------------------------------------------------------------------\u001b[0m",
      "\u001b[1;31mNameError\u001b[0m                                 Traceback (most recent call last)",
      "Input \u001b[1;32mIn [10]\u001b[0m, in \u001b[0;36m<cell line: 2>\u001b[1;34m()\u001b[0m\n\u001b[0;32m      1\u001b[0m \u001b[38;5;66;03m# filter vine_df_50 here vine = \"Y\"\u001b[39;00m\n\u001b[1;32m----> 2\u001b[0m unpaid_reviews_df \u001b[38;5;241m=\u001b[39m \u001b[43mvine_df_50\u001b[49m\u001b[38;5;241m.\u001b[39mloc[vine_df_50[\u001b[38;5;124m\"\u001b[39m\u001b[38;5;124mvine\u001b[39m\u001b[38;5;124m\"\u001b[39m] \u001b[38;5;241m==\u001b[39m \u001b[38;5;124m'\u001b[39m\u001b[38;5;124mN\u001b[39m\u001b[38;5;124m'\u001b[39m]\n\u001b[0;32m      3\u001b[0m unpaid_reviews_df\n",
      "\u001b[1;31mNameError\u001b[0m: name 'vine_df_50' is not defined"
     ]
    }
   ],
   "source": [
    "# filter vine_df_50 here vine = \"Y\"\n",
    "unpaid_reviews_df = vine_df_50.loc[vine_df_50[\"vine\"] == 'N']\n",
    "unpaid_reviews_df"
   ]
  },
  {
   "cell_type": "code",
   "execution_count": 13,
   "id": "3332937f-302f-4603-abc1-cf4c48b05505",
   "metadata": {},
   "outputs": [
    {
     "ename": "NameError",
     "evalue": "name 'paid_reviews_df' is not defined",
     "output_type": "error",
     "traceback": [
      "\u001b[1;31m---------------------------------------------------------------------------\u001b[0m",
      "\u001b[1;31mNameError\u001b[0m                                 Traceback (most recent call last)",
      "Input \u001b[1;32mIn [13]\u001b[0m, in \u001b[0;36m<cell line: 2>\u001b[1;34m()\u001b[0m\n\u001b[0;32m      1\u001b[0m \u001b[38;5;66;03m# determine the count of paid 5 star reviews\u001b[39;00m\n\u001b[1;32m----> 2\u001b[0m paid_5star_reviews \u001b[38;5;241m=\u001b[39m \u001b[43mpaid_reviews_df\u001b[49m\u001b[38;5;241m.\u001b[39mloc[paid_reviews_df[\u001b[38;5;124m\"\u001b[39m\u001b[38;5;124mstar_rating\u001b[39m\u001b[38;5;124m\"\u001b[39m]\u001b[38;5;241m==\u001b[39m \u001b[38;5;241m5\u001b[39m][\u001b[38;5;124m\"\u001b[39m\u001b[38;5;124mstar_rating\u001b[39m\u001b[38;5;124m\"\u001b[39m]\u001b[38;5;241m.\u001b[39mcount()\n\u001b[0;32m      3\u001b[0m paid_5star_reviews\n",
      "\u001b[1;31mNameError\u001b[0m: name 'paid_reviews_df' is not defined"
     ]
    }
   ],
   "source": [
    "# determine the count of paid 5 star reviews\n",
    "paid_5star_reviews = paid_reviews_df.loc[paid_reviews_df[\"star_rating\"]== 5][\"star_rating\"].count()\n",
    "paid_5star_reviews"
   ]
  },
  {
   "cell_type": "code",
   "execution_count": 14,
   "id": "e3ab08ca-c67a-4e25-afce-f96b21716f34",
   "metadata": {},
   "outputs": [
    {
     "ename": "NameError",
     "evalue": "name 'paid_reviews_df' is not defined",
     "output_type": "error",
     "traceback": [
      "\u001b[1;31m---------------------------------------------------------------------------\u001b[0m",
      "\u001b[1;31mNameError\u001b[0m                                 Traceback (most recent call last)",
      "Input \u001b[1;32mIn [14]\u001b[0m, in \u001b[0;36m<cell line: 2>\u001b[1;34m()\u001b[0m\n\u001b[0;32m      1\u001b[0m \u001b[38;5;66;03m# determine the count of paid  reviews\u001b[39;00m\n\u001b[1;32m----> 2\u001b[0m paid_reviews \u001b[38;5;241m=\u001b[39m \u001b[43mpaid_reviews_df\u001b[49m[\u001b[38;5;124m\"\u001b[39m\u001b[38;5;124mstar_rating\u001b[39m\u001b[38;5;124m\"\u001b[39m]\u001b[38;5;241m.\u001b[39mcount()\n\u001b[0;32m      3\u001b[0m paid_reviews\n",
      "\u001b[1;31mNameError\u001b[0m: name 'paid_reviews_df' is not defined"
     ]
    }
   ],
   "source": [
    "# determine the count of paid  reviews\n",
    "paid_reviews = paid_reviews_df[\"star_rating\"].count()\n",
    "paid_reviews"
   ]
  },
  {
   "cell_type": "code",
   "execution_count": 15,
   "id": "d590ae6b-c8b2-4797-b374-0148f3c04fba",
   "metadata": {},
   "outputs": [
    {
     "ename": "NameError",
     "evalue": "name 'paid_5star_reviews' is not defined",
     "output_type": "error",
     "traceback": [
      "\u001b[1;31m---------------------------------------------------------------------------\u001b[0m",
      "\u001b[1;31mNameError\u001b[0m                                 Traceback (most recent call last)",
      "Input \u001b[1;32mIn [15]\u001b[0m, in \u001b[0;36m<cell line: 2>\u001b[1;34m()\u001b[0m\n\u001b[0;32m      1\u001b[0m \u001b[38;5;66;03m# determine the percentage of paif 5star_reviews / paid reviews\u001b[39;00m\n\u001b[1;32m----> 2\u001b[0m percentage_paid_5star_reviews \u001b[38;5;241m=\u001b[39m \u001b[38;5;28mround\u001b[39m((\u001b[43mpaid_5star_reviews\u001b[49m \u001b[38;5;241m/\u001b[39m paid_reviews) \u001b[38;5;241m*\u001b[39m \u001b[38;5;241m100\u001b[39m, \u001b[38;5;241m2\u001b[39m)\n\u001b[0;32m      3\u001b[0m percentafe_paid_5star_reviews\n",
      "\u001b[1;31mNameError\u001b[0m: name 'paid_5star_reviews' is not defined"
     ]
    }
   ],
   "source": [
    "# determine the percentage of paif 5star_reviews / paid reviews\n",
    "percentage_paid_5star_reviews = round((paid_5star_reviews / paid_reviews) * 100, 2)\n",
    "percentafe_paid_5star_reviews"
   ]
  },
  {
   "cell_type": "code",
   "execution_count": 16,
   "id": "7af7eb6a-38b6-401d-ba9d-24bc2bf9ff36",
   "metadata": {},
   "outputs": [
    {
     "ename": "NameError",
     "evalue": "name 'unpaid_reviews_df' is not defined",
     "output_type": "error",
     "traceback": [
      "\u001b[1;31m---------------------------------------------------------------------------\u001b[0m",
      "\u001b[1;31mNameError\u001b[0m                                 Traceback (most recent call last)",
      "Input \u001b[1;32mIn [16]\u001b[0m, in \u001b[0;36m<cell line: 1>\u001b[1;34m()\u001b[0m\n\u001b[1;32m----> 1\u001b[0m \u001b[43munpaid_reviews_df\u001b[49m[\u001b[38;5;124m\"\u001b[39m\u001b[38;5;124mstar_rating\u001b[39m\u001b[38;5;124m\"\u001b[39m] \u001b[38;5;241m==\u001b[39m \u001b[38;5;241m5\u001b[39m\n",
      "\u001b[1;31mNameError\u001b[0m: name 'unpaid_reviews_df' is not defined"
     ]
    }
   ],
   "source": [
    "unpaid_reviews_df[\"star_rating\"] == 5\n"
   ]
  },
  {
   "cell_type": "code",
   "execution_count": 18,
   "id": "d9a1e2ae-1f11-43a7-8a3c-a17ad96a655a",
   "metadata": {},
   "outputs": [
    {
     "ename": "NameError",
     "evalue": "name 'unpaid_reviews_df' is not defined",
     "output_type": "error",
     "traceback": [
      "\u001b[1;31m---------------------------------------------------------------------------\u001b[0m",
      "\u001b[1;31mNameError\u001b[0m                                 Traceback (most recent call last)",
      "Input \u001b[1;32mIn [18]\u001b[0m, in \u001b[0;36m<cell line: 2>\u001b[1;34m()\u001b[0m\n\u001b[0;32m      1\u001b[0m \u001b[38;5;66;03m# determine the count of paid 5 star reviews\u001b[39;00m\n\u001b[1;32m----> 2\u001b[0m unpaid_5star_reviews \u001b[38;5;241m=\u001b[39m \u001b[43munpaid_reviews_df\u001b[49m\u001b[38;5;241m.\u001b[39mloc[unpaid_reviews_df[\u001b[38;5;124m\"\u001b[39m\u001b[38;5;124mstar_rating\u001b[39m\u001b[38;5;124m\"\u001b[39m]\u001b[38;5;241m==\u001b[39m \u001b[38;5;241m5\u001b[39m]\n\u001b[0;32m      3\u001b[0m unpaid_5star_reviews\n",
      "\u001b[1;31mNameError\u001b[0m: name 'unpaid_reviews_df' is not defined"
     ]
    }
   ],
   "source": [
    "# determine the count of paid 5 star reviews\n",
    "unpaid_5star_reviews = unpaid_reviews_df.loc[unpaid_reviews_df[\"star_rating\"]== 5]\n",
    "unpaid_5star_reviews"
   ]
  },
  {
   "cell_type": "code",
   "execution_count": null,
   "id": "af4ecedf-d8e7-4626-be92-b99f7e85942f",
   "metadata": {},
   "outputs": [],
   "source": [
    "### Analyis\n",
    "\n",
    "Ho: 5star_vine = 5star_not_vine (no difference in the percentage (proportion) of 5 star ratings paid (vine) vs unpaid(not vine)\n",
    "Ho: 5star_vine <> 5star_not_vine(there is a difference)\n",
    "                                 \n",
    "* percentage_5star_vine= 38.24%\n",
    "* percentage_5star_not_vine = 54.47%\n",
    "Finding:The percentage of 5star ratings is not the same when comparing vine reviews to not_vine reviews\n",
    "There is reason to believe that the percentage of 5star ratings is not directly tied to whether the reviwer is paid or unpaid\n",
    "                                 note: this hypotheses test would need to be evaluated comparing the proportion of 5 star reviews among the two samples."
   ]
  }
 ],
 "metadata": {
  "kernelspec": {
   "display_name": "PythonData",
   "language": "python",
   "name": "pythondata"
  },
  "language_info": {
   "codemirror_mode": {
    "name": "ipython",
    "version": 3
   },
   "file_extension": ".py",
   "mimetype": "text/x-python",
   "name": "python",
   "nbconvert_exporter": "python",
   "pygments_lexer": "ipython3",
   "version": "3.10.4"
  }
 },
 "nbformat": 4,
 "nbformat_minor": 5
}
